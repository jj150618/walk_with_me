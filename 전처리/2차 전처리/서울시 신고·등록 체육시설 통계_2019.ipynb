{
 "cells": [
  {
   "cell_type": "code",
   "execution_count": 7,
   "id": "52b4e374",
   "metadata": {},
   "outputs": [],
   "source": [
    "import pandas as pd\n",
    "\n",
    "df = pd.read_csv('../../raw/서울시 신고·등록 체육시설 통계_2019.txt', thousands = ',', sep ='\\t',encoding='UTF8',skiprows = [1, 2])\n",
    "df1 = pd.read_csv('../../전처리된 데이터/서울시 주민등록인구 (연령별구별) 통계_2019_Q4.csv')\n",
    "df.replace('-', '0', inplace = True)\n",
    "df.replace('', '0', inplace = True)"
   ]
  },
  {
   "cell_type": "code",
   "execution_count": 8,
   "id": "db5cfd98",
   "metadata": {},
   "outputs": [],
   "source": [
    "df.drop(['기간'], axis =1, inplace = True)\n",
    "cols = df.columns\n",
    "df.drop(cols[2:], axis = 1,inplace = True)"
   ]
  },
  {
   "cell_type": "code",
   "execution_count": 9,
   "id": "ff4bcd8b",
   "metadata": {},
   "outputs": [],
   "source": [
    "df.rename(columns={'합계':'체육시설'}, inplace=True)\n",
    "df.set_index('자치구',inplace=True)"
   ]
  },
  {
   "cell_type": "code",
   "execution_count": 10,
   "id": "e4adef7f",
   "metadata": {},
   "outputs": [],
   "source": [
    "df1.set_index('자치구',inplace=True)\n",
    "cols = df1.columns\n",
    "df1.drop(cols[1:], axis = 1,inplace = True)"
   ]
  },
  {
   "cell_type": "code",
   "execution_count": 11,
   "id": "22348dd2",
   "metadata": {},
   "outputs": [],
   "source": [
    "df2 = pd.concat([df,df1],axis=1)\n",
    "df2['1인당 체육시설'] = round(df2['체육시설']/df2['주민등록인구'],5)"
   ]
  },
  {
   "cell_type": "code",
   "execution_count": 12,
   "id": "eb0efbed",
   "metadata": {},
   "outputs": [],
   "source": [
    "df2.to_csv(\"../../전처리된 데이터/서울시 신고_등록 체육시설 통계_2019.csv\", encoding = 'utf-8-sig')"
   ]
  },
  {
   "cell_type": "code",
   "execution_count": null,
   "id": "adb2f01a",
   "metadata": {},
   "outputs": [],
   "source": []
  }
 ],
 "metadata": {
  "kernelspec": {
   "display_name": "Python 3",
   "language": "python",
   "name": "python3"
  },
  "language_info": {
   "codemirror_mode": {
    "name": "ipython",
    "version": 3
   },
   "file_extension": ".py",
   "mimetype": "text/x-python",
   "name": "python",
   "nbconvert_exporter": "python",
   "pygments_lexer": "ipython3",
   "version": "3.8.8"
  }
 },
 "nbformat": 4,
 "nbformat_minor": 5
}
