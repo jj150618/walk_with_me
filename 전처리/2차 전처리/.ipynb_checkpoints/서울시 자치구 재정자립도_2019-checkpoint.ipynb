{
 "cells": [
  {
   "cell_type": "code",
   "execution_count": 1,
   "id": "52b4e374",
   "metadata": {},
   "outputs": [],
   "source": [
    "import pandas as pd\n",
    "\n",
    "df = pd.read_csv('../../raw/서울시 자치구 재정자립도_2019.txt', thousands = ',', sep ='\\t',encoding='UTF8',)"
   ]
  },
  {
   "cell_type": "code",
   "execution_count": 2,
   "id": "a7b2851c",
   "metadata": {},
   "outputs": [],
   "source": [
    "df.drop(['기간'], axis='columns', inplace=True) "
   ]
  },
  {
   "cell_type": "code",
   "execution_count": 3,
   "id": "087e525e",
   "metadata": {},
   "outputs": [],
   "source": [
    "df.drop(df.index[0:3],inplace = True)"
   ]
  },
  {
   "cell_type": "code",
   "execution_count": 4,
   "id": "97819811",
   "metadata": {},
   "outputs": [],
   "source": [
    "df.rename(columns={'자치구별':'자치구'}, inplace=True)\n",
    "df.set_index('자치구',inplace=True)"
   ]
  },
  {
   "cell_type": "code",
   "execution_count": 5,
   "id": "eb0efbed",
   "metadata": {},
   "outputs": [],
   "source": [
    "df.to_csv(\"../../전처리된 데이터/서울시 자치구 재정자립도_2019.csv\", mode='w',encoding = 'utf-8-sig')"
   ]
  },
  {
   "cell_type": "code",
   "execution_count": null,
   "id": "adb2f01a",
   "metadata": {},
   "outputs": [],
   "source": []
  }
 ],
 "metadata": {
  "kernelspec": {
   "display_name": "Python 3",
   "language": "python",
   "name": "python3"
  },
  "language_info": {
   "codemirror_mode": {
    "name": "ipython",
    "version": 3
   },
   "file_extension": ".py",
   "mimetype": "text/x-python",
   "name": "python",
   "nbconvert_exporter": "python",
   "pygments_lexer": "ipython3",
   "version": "3.8.8"
  }
 },
 "nbformat": 4,
 "nbformat_minor": 5
}
