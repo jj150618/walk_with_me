{
 "cells": [
  {
   "cell_type": "code",
   "execution_count": 3,
   "id": "1160eca5",
   "metadata": {},
   "outputs": [],
   "source": [
    "import matplotlib as mp\n",
    "import matplotlib.pyplot as plt\n",
    "import seaborn as sns\n",
    "\n",
    "import numpy as np\n",
    "import pandas as pd\n",
    "import statsmodels.api as sm\n",
    "import statsmodels.formula.api as smf\n",
    "fm = mp.font_manager.FontManager()\n",
    "plt.rcParams['font.family'] = 'Malgun Gothic'\n",
    "\n",
    "\n",
    "list_age = ['계','19~44','45~64','65~74','75 이상']\n",
    "list_sex = ['계','남','여']\n",
    "idx_sex = []\n",
    "idx_age = []\n",
    "idx_topic = []\n",
    "value = []\n",
    "i1 =''\n",
    "\n",
    "for z in range(9,10):\n",
    "    for i in list_age:\n",
    "        for j in list_sex:\n",
    "            data1 = pd.read_csv('../전처리된 데이터/통합 테이블(공원)_2019.csv')\n",
    "            data2 = pd.read_csv('../전처리된 데이터/통합 테이블(건강)_2019.csv')\n",
    "            data2.rename(columns={'지역':'자치구'},inplace = True)\n",
    "            df2 = data2[data2['연령별'] == i]\n",
    "            df2 = df2[df2['성별'] == j]\n",
    "            df2.set_index('자치구',inplace = True)\n",
    "            data1.set_index('자치구',inplace = True)\n",
    "            df = pd.concat([df2,data1],axis=1)\n",
    "            df = df.drop(df.index[0])\n",
    "            df = df.drop(['연령별','성별'],axis=1)\n",
    "            df1 = df[[df.columns[z],'1인당 생활권 도시림 면적']]\n",
    "            corr = df1.corr()\n",
    "            value.append(corr.iloc[0][1])\n",
    "            idx_age.append(i)\n",
    "            idx_sex.append(j)\n",
    "            idx_topic.append(df.columns[z])"
   ]
  },
  {
   "cell_type": "code",
   "execution_count": 4,
   "id": "07431e74",
   "metadata": {},
   "outputs": [],
   "source": [
    "df_final = pd.DataFrame({'주관적 건강수준':value, '주제':idx_topic,'연령별':idx_age,'성별':idx_sex})\n",
    "\n",
    "df_final = df_final.set_index(['주제','연령별','성별'])\n",
    "\n",
    "df_final.reset_index(inplace = True)\n"
   ]
  },
  {
   "cell_type": "code",
   "execution_count": 12,
   "id": "2ac8ed97",
   "metadata": {},
   "outputs": [
    {
     "data": {
      "image/png": "[encoded data removed]",
      "text/plain": [
       "<Figure size 432x288 with 1 Axes>"
      ]
     },
     "metadata": {
      "needs_background": "light"
     },
     "output_type": "display_data"
    }
   ],
   "source": [
    "\n",
    "matplotlib.rcParams['axes.unicode_minus'] = False\n",
    "\n",
    "\n",
    "women = np.array(df_final[df_final['성별']=='여']['주관적 건강수준'])[::-1]\n",
    "\n",
    "men = np.array(df_final[df_final['성별']=='남']['주관적 건강수준'])[::-1]\n",
    "\n",
    "x = ['75 이상','65~74','45~64','19~44','계']\n",
    "\n",
    "\n",
    "\n",
    "plt.barh(x, women, color=\"r\", alpha = 0.3)\n",
    "\n",
    "plt.barh(x, -men, color=\"b\",alpha = 0.3)\n",
    "plt.legend(['여','남'])\n",
    "plt.xlabel('상관계수(행복감 지수 vs 1인당 생활권 도시림 면적)')\n",
    "plt.ylabel('연령별')\n",
    "\n",
    "plt.show()"
   ]
  },
  {
   "cell_type": "code",
   "execution_count": 362,
   "id": "1e983663",
   "metadata": {},
   "outputs": [
    {
     "name": "stderr",
     "output_type": "stream",
     "text": [
      "C:\\Users\\gimhu\\anaconda3\\lib\\site-packages\\pandas\\core\\frame.py:4441: SettingWithCopyWarning: \n",
      "A value is trying to be set on a copy of a slice from a DataFrame\n",
      "\n",
      "See the caveats in the documentation: https://pandas.pydata.org/pandas-docs/stable/user_guide/indexing.html#returning-a-view-versus-a-copy\n",
      "  return super().rename(\n"
     ]
    },
    {
     "data": {
      "text/html": [
       "<div>\n",
       "<style scoped>\n",
       "    .dataframe tbody tr th:only-of-type {\n",
       "        vertical-align: middle;\n",
       "    }\n",
       "\n",
       "    .dataframe tbody tr th {\n",
       "        vertical-align: top;\n",
       "    }\n",
       "\n",
       "    .dataframe thead th {\n",
       "        text-align: right;\n",
       "    }\n",
       "</style>\n",
       "<table border=\"1\" class=\"dataframe\">\n",
       "  <thead>\n",
       "    <tr style=\"text-align: right;\">\n",
       "      <th></th>\n",
       "      <th>_주관적_스트레스_수준</th>\n",
       "      <th>_1인당생활권도시림면적</th>\n",
       "    </tr>\n",
       "  </thead>\n",
       "  <tbody>\n",
       "    <tr>\n",
       "      <th>_주관적_스트레스_수준</th>\n",
       "      <td>1.000000</td>\n",
       "      <td>0.062178</td>\n",
       "    </tr>\n",
       "    <tr>\n",
       "      <th>_1인당생활권도시림면적</th>\n",
       "      <td>0.062178</td>\n",
       "      <td>1.000000</td>\n",
       "    </tr>\n",
       "  </tbody>\n",
       "</table>\n",
       "</div>"
      ],
      "text/plain": [
       "              _주관적_스트레스_수준  _1인당생활권도시림면적\n",
       "_주관적_스트레스_수준      1.000000      0.062178\n",
       "_1인당생활권도시림면적      0.062178      1.000000"
      ]
     },
     "execution_count": 362,
     "metadata": {},
     "output_type": "execute_result"
    }
   ],
   "source": [
    "\n",
    "import pandas as pd\n"
   ]
  },
  {
   "cell_type": "code",
   "execution_count": 363,
   "id": "f75f050d",
   "metadata": {},
   "outputs": [
    {
     "data": {
      "text/plain": [
       "<seaborn.axisgrid.FacetGrid at 0x22f1bbb1670>"
      ]
     },
     "execution_count": 363,
     "metadata": {},
     "output_type": "execute_result"
    },
    {
     "data": {
      "image/png": "[encoded data removed]",
      "text/plain": [
       "<Figure size 360x360 with 1 Axes>"
      ]
     },
     "metadata": {
      "needs_background": "light"
     },
     "output_type": "display_data"
    }
   ],
   "source": [
    "sns.lmplot(x=\"_1인당생활권도시림면적\", y='_'+ df.columns[z].replace(' ','_'), data=df1, line_kws={'color':\"red\"}, scatter_kws={'edgecolor':\"white\"}, x_jitter=.9)"
   ]
  },
  {
   "cell_type": "code",
   "execution_count": null,
   "id": "9e76b1d3",
   "metadata": {},
   "outputs": [],
   "source": []
  },
  {
   "cell_type": "code",
   "execution_count": null,
   "id": "6c14a048",
   "metadata": {},
   "outputs": [],
   "source": []
  },
  {
   "cell_type": "code",
   "execution_count": null,
   "id": "26738a4b",
   "metadata": {},
   "outputs": [],
   "source": []
  },
  {
   "cell_type": "code",
   "execution_count": null,
   "id": "92b7f0d6",
   "metadata": {},
   "outputs": [],
   "source": []
  }
 ],
 "metadata": {
  "kernelspec": {
   "display_name": "Python 3",
   "language": "python",
   "name": "python3"
  },
  "language_info": {
   "codemirror_mode": {
    "name": "ipython",
    "version": 3
   },
   "file_extension": ".py",
   "mimetype": "text/x-python",
   "name": "python",
   "nbconvert_exporter": "python",
   "pygments_lexer": "ipython3",
   "version": "3.8.8"
  }
 },
 "nbformat": 4,
 "nbformat_minor": 5
}
